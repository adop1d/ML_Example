{
 "cells": [
  {
   "cell_type": "code",
   "execution_count": 2,
   "id": "c1c04ce1",
   "metadata": {},
   "outputs": [],
   "source": [
    "import numpy as np\n",
    "import matplotlib.pyplot as plt\n",
    "from sklearn.cluster import KMeans\n",
    "from sklearn import datasets\n",
    "from ipywidgets import interact, IntSlider\n",
    "from IPython.display import display, clear_output"
   ]
  },
  {
   "cell_type": "code",
   "execution_count": 3,
   "id": "5ee932c2",
   "metadata": {},
   "outputs": [],
   "source": [
    "#Load the dataset\n",
    "iris = datasets.load_iris()\n",
    "\n",
    "X = iris.data[:, :2]  # we only take the first two features for easy visualization"
   ]
  },
  {
   "cell_type": "code",
   "execution_count": 4,
   "id": "0bda0933",
   "metadata": {},
   "outputs": [],
   "source": [
    "#Create a function for interactive clustering visualization\n",
    "\n",
    "def plot_kmeans_clusters(num_clusters=2):\n",
    "    kmeans = KMeans(n_clusters=num_clusters, random_state=0)\n",
    "    labels = kmeans.fit_predict(X)\n",
    "\n",
    "    #Create a scatter plot with different colors for each cluster\n",
    "    plt.figure(figsize=(10, 6))\n",
    "    for i in range(num_clusters):\n",
    "        plt.scatter(X[labels == i, 0], X[labels == i, 1], label=f'Cluster {i+1}')\n",
    "\n",
    "    plt.scatter(kmeans.cluster_centers_[:, 0], kmeans.cluster_centers_[:, 1], s=200, c='black', marker='X', label='Centroids')\n",
    "\n",
    "    plt.xlabel('Feature 1')\n",
    "    plt.ylabel('Feature 2')\n",
    "    plt.title(f'K-Means Clustering with {num_clusters} Clusters')\n",
    "    plt.legend()\n",
    "    plt.grid(True)\n",
    "    plt.show()"
   ]
  },
  {
   "cell_type": "code",
   "execution_count": null,
   "id": "55182ee4",
   "metadata": {},
   "outputs": [
    {
     "data": {
      "application/vnd.jupyter.widget-view+json": {
       "model_id": "642bb35b062148d987e0c6e9b5885d73",
       "version_major": 2,
       "version_minor": 0
      },
      "text/plain": [
       "interactive(children=(IntSlider(value=2, description='Clusters:', max=5, min=2), Output()), _dom_classes=('wid…"
      ]
     },
     "metadata": {},
     "output_type": "display_data"
    }
   ],
   "source": [
    "#Create slider for number of clusters\n",
    "number_of_clusters_slider = IntSlider(value=2, min=2, max=5, description='Clusters:')\n",
    "\n",
    "#Create interactive plot\n",
    "interact(plot_kmeans_clusters, num_clusters=number_of_clusters_slider);"
   ]
  }
 ],
 "metadata": {
  "kernelspec": {
   "display_name": "Python 3",
   "language": "python",
   "name": "python3"
  },
  "language_info": {
   "codemirror_mode": {
    "name": "ipython",
    "version": 3
   },
   "file_extension": ".py",
   "mimetype": "text/x-python",
   "name": "python",
   "nbconvert_exporter": "python",
   "pygments_lexer": "ipython3",
   "version": "3.13.2"
  }
 },
 "nbformat": 4,
 "nbformat_minor": 5
}

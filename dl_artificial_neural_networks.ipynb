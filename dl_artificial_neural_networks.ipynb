{
 "cells": [
  {
   "cell_type": "markdown",
   "id": "6088994d",
   "metadata": {},
   "source": [
    "# Import Required Libraries\n",
    "Import NumPy, Matplotlib, scikit-learn, and ipywidgets for data generation, plotting, and interactivity."
   ]
  },
  {
   "cell_type": "code",
   "execution_count": 1,
   "id": "cba715f3",
   "metadata": {},
   "outputs": [],
   "source": [
    "import numpy as np\n",
    "import matplotlib.pyplot as plt\n",
    "from sklearn.datasets import make_circles\n",
    "from sklearn.neural_network import MLPClassifier\n",
    "import ipywidgets as widgets\n",
    "from IPython.display import display\n",
    "from ipywidgets import interactive"
   ]
  },
  {
   "cell_type": "markdown",
   "id": "a50755c3",
   "metadata": {},
   "source": [
    "# Generate Synthetic Data\n",
    "Use `make_circles` from scikit-learn to create synthetic 2D data for classification."
   ]
  },
  {
   "cell_type": "code",
   "execution_count": 2,
   "id": "a5854a05",
   "metadata": {},
   "outputs": [],
   "source": [
    "# Generate synthetic data\n",
    "X, y = make_circles(n_samples=300, noise=0.1, factor=0.5, random_state=0)"
   ]
  },
  {
   "cell_type": "markdown",
   "id": "e7a3ce5e",
   "metadata": {},
   "source": [
    "# Define Plot Update Function\n",
    "Implement a function that trains an MLPClassifier and plots the decision boundary based on the hidden layer size."
   ]
  },
  {
   "cell_type": "code",
   "execution_count": 3,
   "id": "d196c3a5",
   "metadata": {},
   "outputs": [],
   "source": [
    "def update_plot(hidden_layer_size):\n",
    "    # Train MLPClassifier\n",
    "    clf = MLPClassifier(hidden_layer_sizes=(hidden_layer_size,), activation='relu', max_iter=3000, random_state=1)\n",
    "    clf.fit(X, y)\n",
    "    \n",
    "    # Create grid for decision boundary\n",
    "    x_vals = np.linspace(X[:,0].min()-0.1, X[:,0].max()+0.1, 100)\n",
    "    y_vals = np.linspace(X[:,1].min()-0.1, X[:,1].max()+0.1, 100)\n",
    "    X_plane, Y_plane = np.meshgrid(x_vals, y_vals)\n",
    "    grid_points = np.c_[X_plane.ravel(), Y_plane.ravel()]\n",
    "    \n",
    "    # Predict class for each grid point\n",
    "    Z = clf.predict(grid_points)\n",
    "    Z = Z.reshape(X_plane.shape)\n",
    "    \n",
    "    # Plot decision boundary and data points\n",
    "    plt.figure(figsize=(6,6))\n",
    "    plt.contourf(X_plane, Y_plane, Z, levels=[-0.5,0.5,1.5], alpha=0.5, cmap=plt.cm.RdYlBu)\n",
    "    plt.scatter(X[:,0], X[:,1], c=y, cmap=plt.cm.RdYlBu, edgecolor='k')\n",
    "    plt.xlabel('Feature 1')\n",
    "    plt.ylabel('Feature 2')\n",
    "    plt.title(f'MLP with hidden layer size: {hidden_layer_size}')\n",
    "    plt.show()"
   ]
  },
  {
   "cell_type": "markdown",
   "id": "62f4a445",
   "metadata": {},
   "source": [
    "# Create Interactive Widgets\n",
    "Set up ipywidgets sliders and buttons to control the hidden layer size and trigger plot updates."
   ]
  },
  {
   "cell_type": "code",
   "execution_count": 4,
   "id": "c726403d",
   "metadata": {},
   "outputs": [],
   "source": [
    "# Slider for hidden layer size\n",
    "hidden_layer_slider = widgets.IntSlider(value=2, min=1, max=10, step=1, description='Hidden Layer Size:')"
   ]
  },
  {
   "cell_type": "markdown",
   "id": "47dc334d",
   "metadata": {},
   "source": [
    "# Display Interactive Plot in Notebook\n",
    "Use `display()` and `interactive()` from ipywidgets to show the interactive plot and widgets in the notebook interface."
   ]
  },
  {
   "cell_type": "code",
   "execution_count": 5,
   "id": "a79bfec3",
   "metadata": {},
   "outputs": [
    {
     "data": {
      "application/vnd.jupyter.widget-view+json": {
       "model_id": "ec028cceed1f47fb9094ddc014018e84",
       "version_major": 2,
       "version_minor": 0
      },
      "text/plain": [
       "interactive(children=(IntSlider(value=2, description='Hidden Layer Size:', max=10, min=1), Output()), _dom_cla…"
      ]
     },
     "metadata": {},
     "output_type": "display_data"
    }
   ],
   "source": [
    "# Create interactive plot\n",
    "interactive_plot = interactive(update_plot, hidden_layer_size=hidden_layer_slider)\n",
    "display(interactive_plot)"
   ]
  }
 ],
 "metadata": {
  "kernelspec": {
   "display_name": "Python 3",
   "language": "python",
   "name": "python3"
  },
  "language_info": {
   "codemirror_mode": {
    "name": "ipython",
    "version": 3
   },
   "file_extension": ".py",
   "mimetype": "text/x-python",
   "name": "python",
   "nbconvert_exporter": "python",
   "pygments_lexer": "ipython3",
   "version": "3.13.2"
  }
 },
 "nbformat": 4,
 "nbformat_minor": 5
}
